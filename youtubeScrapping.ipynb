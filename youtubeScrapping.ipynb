{
 "cells": [
  {
   "cell_type": "code",
   "execution_count": null,
   "id": "16032653-edeb-47ac-8bb9-5e7163557cab",
   "metadata": {},
   "outputs": [],
   "source": [
    "import pandas as pd\n",
    "import matplotlib.pyplot as plt\n",
    "from googleapiclient.discovery import build\n"
   ]
  },
  {
   "cell_type": "code",
   "execution_count": null,
   "id": "346ce70f-884c-4ed9-917b-452e63760c7e",
   "metadata": {},
   "outputs": [],
   "source": [
    "# Set up API key and YouTube service\n",
    "api_key = 'YOUTUBE_Api_Key'\n",
    "youtube = build('youtube', 'v3', developerKey=api_key)\n"
   ]
  },
  {
   "cell_type": "markdown",
   "id": "77b86178-b16e-4762-abd5-05c07e42d2c3",
   "metadata": {},
   "source": [
    "##function to get stats"
   ]
  },
  {
   "cell_type": "code",
   "execution_count": null,
   "id": "592d0671-9ba6-406e-b4b9-cd008fe756f4",
   "metadata": {},
   "outputs": [],
   "source": [
    "def get_channel_data(channel_id):\n",
    "    \n",
    "    request = youtube.channels().list(\n",
    "        part='snippet,contentDetails,statistics',\n",
    "        id=channel_id\n",
    "    )\n",
    "    response = request.execute()\n",
    "    return response['items'][0]\n",
    "\n",
    "def get_video_data(channel_id):\n",
    "    \n",
    "    request = youtube.search().list(\n",
    "        part='snippet',\n",
    "        channelId=channel_id,\n",
    "        maxResults=50,\n",
    "        order='date'\n",
    "    )\n",
    "    response = request.execute()\n",
    "    return response['items']\n",
    "\n",
    "def extract_video_details(videos):\n",
    "   \n",
    "    video_details = []\n",
    "    for video in videos:\n",
    "        # Ensure 'videoId' is present in the response\n",
    "        if 'id' in video and 'videoId' in video['id']:\n",
    "            video_id = video['id']['videoId']\n",
    "            snippet = video['snippet']\n",
    "            video_details.append({\n",
    "                'video_id': video_id,\n",
    "                'title': snippet['title'],\n",
    "                'published_at': snippet['publishedAt']\n",
    "            })\n",
    "        else:\n",
    "            print(f\"Video ID not found in response: {video}\")\n",
    "    return video_details\n"
   ]
  },
  {
   "cell_type": "code",
   "execution_count": null,
   "id": "ab6742af",
   "metadata": {},
   "outputs": [],
   "source": [
    "# Replace with your Kenyan YouTube channel IDs\n",
    "channel_ids = ['UC33Tc4FCgd_to314_b2hNTg', 'UCiuh2rVpl8I_wZQASC6wxbg']\n",
    "\n",
    "# Fetch and analyze data\n",
    "channel_data_list = []\n",
    "for channel_id in channel_ids:\n",
    "    channel_data = get_channel_data(channel_id)\n",
    "    video_data = get_video_data(channel_id)\n",
    "    video_details = extract_video_details(video_data)\n",
    "    \n",
    "    # Collect channel data\n",
    "    channel_data_list.append({\n",
    "        'channel_id': channel_id,\n",
    "        'channel_title': channel_data['snippet']['title'],\n",
    "        'subscriber_count': channel_data['statistics']['subscriberCount'],\n",
    "        'video_count': channel_data['statistics']['videoCount'],\n",
    "        'view_count': channel_data['statistics']['viewCount'],\n",
    "        'latest_videos': video_details\n",
    "    })\n",
    "\n",
    "# Create DataFrame for analysis\n",
    "df = pd.DataFrame(channel_data_list)\n"
   ]
  },
  {
   "cell_type": "code",
   "execution_count": null,
   "id": "97d8b4b7",
   "metadata": {},
   "outputs": [],
   "source": [
    "\n",
    "# Display the DataFrame\n",
    "print(df[['channel_title', 'subscriber_count', 'video_count', 'view_count']])\n",
    "\n"
   ]
  },
  {
   "cell_type": "code",
   "execution_count": null,
   "id": "677391f7",
   "metadata": {},
   "outputs": [],
   "source": [
    "\n",
    "#  Plot subscriber counts\n",
    "df.set_index('channel_title')['subscriber_count'].astype(int).plot(kind='bar')\n",
    "plt.title('Subscriber Counts of Kenyan YouTube Channels')\n",
    "plt.xlabel('Channel Title')\n",
    "plt.ylabel('Subscriber Count')\n",
    "plt.xticks(rotation=45)\n",
    "plt.show()\n"
   ]
  }
 ],
 "metadata": {
  "kernelspec": {
   "display_name": "Python 3 (ipykernel)",
   "language": "python",
   "name": "python3"
  },
  "language_info": {
   "codemirror_mode": {
    "name": "ipython",
    "version": 3
   },
   "file_extension": ".py",
   "mimetype": "text/x-python",
   "name": "python",
   "nbconvert_exporter": "python",
   "pygments_lexer": "ipython3",
   "version": "3.12.3"
  }
 },
 "nbformat": 4,
 "nbformat_minor": 5
}
